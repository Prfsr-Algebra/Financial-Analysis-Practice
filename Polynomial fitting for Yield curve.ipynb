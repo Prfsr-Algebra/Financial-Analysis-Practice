{
 "cells": [
  {
   "cell_type": "markdown",
   "id": "5abd25a9-b987-4ade-ae98-7c2e0f31b821",
   "metadata": {},
   "source": [
    "#### Pulling data from fredapi"
   ]
  },
  {
   "cell_type": "code",
   "execution_count": 82,
   "id": "cbadd787-bcb7-4e3d-8203-24e6b3d78d2a",
   "metadata": {},
   "outputs": [
    {
     "data": {
      "text/html": [
       "<div>\n",
       "<style scoped>\n",
       "    .dataframe tbody tr th:only-of-type {\n",
       "        vertical-align: middle;\n",
       "    }\n",
       "\n",
       "    .dataframe tbody tr th {\n",
       "        vertical-align: top;\n",
       "    }\n",
       "\n",
       "    .dataframe thead th {\n",
       "        text-align: right;\n",
       "    }\n",
       "</style>\n",
       "<table border=\"1\" class=\"dataframe\">\n",
       "  <thead>\n",
       "    <tr style=\"text-align: right;\">\n",
       "      <th></th>\n",
       "      <th>1 month</th>\n",
       "      <th>3 months</th>\n",
       "      <th>6 months</th>\n",
       "      <th>1 year</th>\n",
       "      <th>2 years</th>\n",
       "      <th>3 years</th>\n",
       "      <th>5 years</th>\n",
       "      <th>7 years</th>\n",
       "      <th>10 years</th>\n",
       "      <th>20 years</th>\n",
       "      <th>30 years</th>\n",
       "    </tr>\n",
       "  </thead>\n",
       "  <tbody>\n",
       "    <tr>\n",
       "      <th>2001-01-01</th>\n",
       "      <td>NaN</td>\n",
       "      <td>NaN</td>\n",
       "      <td>NaN</td>\n",
       "      <td>NaN</td>\n",
       "      <td>NaN</td>\n",
       "      <td>NaN</td>\n",
       "      <td>NaN</td>\n",
       "      <td>NaN</td>\n",
       "      <td>NaN</td>\n",
       "      <td>NaN</td>\n",
       "      <td>NaN</td>\n",
       "    </tr>\n",
       "    <tr>\n",
       "      <th>2001-01-02</th>\n",
       "      <td>NaN</td>\n",
       "      <td>5.87</td>\n",
       "      <td>5.58</td>\n",
       "      <td>5.11</td>\n",
       "      <td>4.87</td>\n",
       "      <td>4.82</td>\n",
       "      <td>4.76</td>\n",
       "      <td>4.97</td>\n",
       "      <td>4.92</td>\n",
       "      <td>5.46</td>\n",
       "      <td>5.35</td>\n",
       "    </tr>\n",
       "    <tr>\n",
       "      <th>2001-01-03</th>\n",
       "      <td>NaN</td>\n",
       "      <td>5.69</td>\n",
       "      <td>5.44</td>\n",
       "      <td>5.04</td>\n",
       "      <td>4.92</td>\n",
       "      <td>4.92</td>\n",
       "      <td>4.94</td>\n",
       "      <td>5.18</td>\n",
       "      <td>5.14</td>\n",
       "      <td>5.62</td>\n",
       "      <td>5.49</td>\n",
       "    </tr>\n",
       "    <tr>\n",
       "      <th>2001-01-04</th>\n",
       "      <td>NaN</td>\n",
       "      <td>5.37</td>\n",
       "      <td>5.20</td>\n",
       "      <td>4.82</td>\n",
       "      <td>4.77</td>\n",
       "      <td>4.78</td>\n",
       "      <td>4.82</td>\n",
       "      <td>5.07</td>\n",
       "      <td>5.03</td>\n",
       "      <td>5.56</td>\n",
       "      <td>5.44</td>\n",
       "    </tr>\n",
       "    <tr>\n",
       "      <th>2001-01-05</th>\n",
       "      <td>NaN</td>\n",
       "      <td>5.12</td>\n",
       "      <td>4.98</td>\n",
       "      <td>4.60</td>\n",
       "      <td>4.56</td>\n",
       "      <td>4.57</td>\n",
       "      <td>4.66</td>\n",
       "      <td>4.93</td>\n",
       "      <td>4.93</td>\n",
       "      <td>5.50</td>\n",
       "      <td>5.41</td>\n",
       "    </tr>\n",
       "  </tbody>\n",
       "</table>\n",
       "</div>"
      ],
      "text/plain": [
       "            1 month  3 months  6 months  1 year  2 years  3 years  5 years  \\\n",
       "2001-01-01      NaN       NaN       NaN     NaN      NaN      NaN      NaN   \n",
       "2001-01-02      NaN      5.87      5.58    5.11     4.87     4.82     4.76   \n",
       "2001-01-03      NaN      5.69      5.44    5.04     4.92     4.92     4.94   \n",
       "2001-01-04      NaN      5.37      5.20    4.82     4.77     4.78     4.82   \n",
       "2001-01-05      NaN      5.12      4.98    4.60     4.56     4.57     4.66   \n",
       "\n",
       "            7 years  10 years  20 years  30 years  \n",
       "2001-01-01      NaN       NaN       NaN       NaN  \n",
       "2001-01-02     4.97      4.92      5.46      5.35  \n",
       "2001-01-03     5.18      5.14      5.62      5.49  \n",
       "2001-01-04     5.07      5.03      5.56      5.44  \n",
       "2001-01-05     4.93      4.93      5.50      5.41  "
      ]
     },
     "execution_count": 82,
     "metadata": {},
     "output_type": "execute_result"
    }
   ],
   "source": [
    "import pandas as pd\n",
    "import matplotlib.pyplot as plt\n",
    "import numpy as np\n",
    "import seaborn as sns\n",
    "from fredapi import Fred\n",
    "sns.set\n",
    "\n",
    "#Initializing fredapi\n",
    "fred = Fred(api_key = 'f7a64d5acdc11f5d761fe5d9c28ca5fa')\n",
    "series_ids =['DGS1MO', 'DGS3MO', 'DGS6MO', 'DGS1', 'DGS2', 'DGS3', 'DGS5', \\\n",
    "              'DGS7', 'DGS10', 'DGS20', 'DGS30']\n",
    "#Creating Function\n",
    "def get_series_data(series_id, start, end):\n",
    "    data = fred.get_series(series_id, observation_start = start, observation_end = end)\n",
    "    return data\n",
    "#creating dictionary of the series\n",
    "start = \"2001-01-01\"\n",
    "end = \"2024-12-31\"\n",
    "yields_dict = {series_id: get_series_data(series_id, start, end) for series_id in series_ids}\n",
    "#creating data frame\n",
    "yields_df = pd.DataFrame(yields_dict)\n",
    "#renaming columns\n",
    "yields_df.columns = ['1 month', '3 months', '6 months', '1 year', '2 years', '3 years', '5 years', '7 years', '10 years', '20 years', '30 years']\n",
    "yields_df.head()"
   ]
  },
  {
   "cell_type": "markdown",
   "id": "41f149ef-896d-415a-89f5-da13b5526982",
   "metadata": {},
   "source": [
    "### Fitting NS model"
   ]
  },
  {
   "cell_type": "code",
   "execution_count": 83,
   "id": "286b4ae9-09c1-48af-8bfc-297909ee7de9",
   "metadata": {},
   "outputs": [
    {
     "name": "stdout",
     "output_type": "stream",
     "text": [
      "NelsonSiegelCurve(beta0=np.float64(3.9583206600317427), beta1=np.float64(1.1845879250204785), beta2=np.float64(3.2367486382322532), tau=np.float64(0.40486325975998416))\n"
     ]
    },
    {
     "data": {
      "text/plain": [
       "Text(0.5, 1.0, 'NS Model')"
      ]
     },
     "execution_count": 83,
     "metadata": {},
     "output_type": "execute_result"
    },
    {
     "data": {
      "image/png": "[encoded data removed]",
      "text/plain": [
       "<Figure size 640x480 with 1 Axes>"
      ]
     },
     "metadata": {},
     "output_type": "display_data"
    }
   ],
   "source": [
    "from nelson_siegel_svensson.calibrate import calibrate_ns_ols\n",
    "#creating maturities in terms of years\n",
    "maturities = [0.0833, 0.25, 0.5, 1, 2, 3, 5, 7, 10, 20, 30]\n",
    "t = np.array(maturities)\n",
    "y = np.array(yields_df.loc[\"2023-07-10\"])\n",
    "curve, status = calibrate_ns_ols(t, y, tau0 = 1.0)\n",
    "assert status.success\n",
    "print(curve)\n",
    "#creating simulation of 100 point\n",
    "y_ns = curve\n",
    "t_ns = np.linspace(0.5, 30, 100)\n",
    "plt.plot(t_ns, y_ns(t_ns))\n",
    "plt.xlabel(\"Maturity\")\n",
    "plt.ylabel(\"Yield\")\n",
    "plt.title(\"NS Model\")"
   ]
  },
  {
   "cell_type": "markdown",
   "id": "e54a3a5d-e4ad-48b8-8d00-e2a33ec8e4bc",
   "metadata": {},
   "source": [
    "### Cubic spline interpolation"
   ]
  },
  {
   "cell_type": "markdown",
   "id": "c3ad9622-a350-4bc9-bfd3-76e8c08ac637",
   "metadata": {},
   "source": [
    "$$A = \\begin{bmatrix} \n",
    "   a & b \\\\\n",
    "   c & d\n",
    "\\end{bmatrix}$$"
   ]
  },
  {
   "cell_type": "code",
   "execution_count": 84,
   "id": "881faa5f-13fd-442c-8526-77a7d52b5ad5",
   "metadata": {},
   "outputs": [
    {
     "name": "stdout",
     "output_type": "stream",
     "text": [
      "[5.34 5.48 5.54 5.38 4.85 4.54 4.25 4.14 4.01 4.24 4.05]\n"
     ]
    }
   ],
   "source": [
    "print(y)"
   ]
  },
  {
   "cell_type": "markdown",
   "id": "c9a5f739-90f2-40a5-89b4-44f952a772f5",
   "metadata": {},
   "source": [
    "#### Selecting sample points"
   ]
  },
  {
   "cell_type": "code",
   "execution_count": 85,
   "id": "c44c369a-d00f-4662-aa93-452a54de968a",
   "metadata": {},
   "outputs": [
    {
     "name": "stdout",
     "output_type": "stream",
     "text": [
      "[[ 2.    5.   10.   30.  ]\n",
      " [ 4.85  4.25  4.01  4.05]]\n"
     ]
    }
   ],
   "source": [
    "t_spline = np.array([2, 5, 10, 30])\n",
    "M = [\"2 years\", \"5 years\", \"10 years\", \"30 years\"]\n",
    "y_spline = np.array([yields_df.loc[\"2023-07-10\", i] for i in M ])\n",
    "print(np.vstack((t_spline, y_spline)))"
   ]
  },
  {
   "cell_type": "markdown",
   "id": "5ace6d3b-0b6f-419e-9b81-31ac3e4e613d",
   "metadata": {},
   "source": [
    "#### Genearing the 12 equations and their Linear system"
   ]
  },
  {
   "cell_type": "markdown",
   "id": "f52f38d7-37f0-4559-8453-f3e6ea35e188",
   "metadata": {},
   "source": [
    "After getting the equations, by putting into matrices, we obtain a linear system of the form:\n",
    "$$A*C = y$$\n",
    "<br>\n",
    "A: The coefficient matrix\n",
    "<br>\n",
    "C: the variable matrix\n",
    "<br>\n",
    "y: the output\n",
    "<br>\n",
    "$$C = A^{-1}*y$$"
   ]
  },
  {
   "cell_type": "markdown",
   "id": "d108d5dd-2c85-426b-9224-ea20830ed67d",
   "metadata": {},
   "source": [
    "#### Putting the matrices in a numpy array"
   ]
  },
  {
   "cell_type": "code",
   "execution_count": 94,
   "id": "5668123a-bbc5-4602-82b3-02ae2c37fbe1",
   "metadata": {},
   "outputs": [],
   "source": [
    "y = np.array([4.85, 4.25, 4.25, 4.01, 4.01, 4.05, 0, 0, 0, 0, 0, 0])\n",
    "A = np.array([[8,4,2,1,0,0,0,0,0,0,0,0],[125,25,5,1,0,0,0,0,0,0,0,0],[0,0,0,0,125,25,5,1,0,0,0,0],[0,0,0,0,1000,100,10,1,0,0,0,0], \\\n",
    "                  [0,0,0,0,0,0,0,0,1000,100,10,1],[0,0,0,0,0,0,0,0,27000,900,30,1],[75,10,1,0,-75,-10,-1,0,0,0,0,0],[0,0,0,0,300,20,1,0,-300,-20,-1,0], \\\n",
    "                  [30,2,0,0,-30,-2,0,0,0,0,0,0],[0,0,0,0,60,2,0,0,-60,-2,0,0],[12,2,0,0,0,0,0,0,0,0,0,0],[0,0,0,0,0,0,0,0,180,2,0,0]])\n",
    "C = np.round(np.dot(np.linalg.inv(A), y.reshape(-1,1)), decimals = 6).reshape(3,-1)"
   ]
  },
  {
   "cell_type": "markdown",
   "id": "f3a91619-a4c3-4d59-af3f-245e487d5faf",
   "metadata": {},
   "source": [
    "the output of the matrix above is of the form:\n",
    "$$A = \\begin{bmatrix}\n",
    "    a_1 & b_1 & c_1 & d_1 \\\\\n",
    "    a_2 & b_2 & c_2 & d_2 \\\\\n",
    "    a_3 & b_3 & c_3 & d_3 \\\\\n",
    "    a_4 & b_4 & c_4 & d_4\n",
    "\\end{bmatrix}$$"
   ]
  },
  {
   "cell_type": "markdown",
   "id": "d3216821-fe5b-46d7-b01c-1d7e64517422",
   "metadata": {},
   "source": [
    "#### Writting the function that calculates:\n",
    "$$x^0 + x^1 + x^2 + x^3$$"
   ]
  },
  {
   "cell_type": "code",
   "execution_count": 95,
   "id": "a9953379-fd34-4855-a5e8-7d8e562a62de",
   "metadata": {},
   "outputs": [
    {
     "data": {
      "text/plain": [
       "'\\nnote that the coefficient matrix will be passed row by row after each row has been reversed.\\n#the row are reversed so that each coefficient is multiplied to the correct power of x, i starts from 0, \\nnot reversing the rows will geneate wrong output\\n'"
      ]
     },
     "execution_count": 95,
     "metadata": {},
     "output_type": "execute_result"
    }
   ],
   "source": [
    "def spline_interpol(coeffs, variables):\n",
    "    expansion = np.hstack([coeffs[i]*(variables**i)for i in range(0, len(coeffs))])\n",
    "    return np.sum(expansion, axis = 1)\n",
    "\"\"\"\n",
    "note that the coefficient matrix will be passed row by row after each row has been reversed.\n",
    "#the row are reversed so that each coefficient is multiplied to the correct power of x, i starts from 0, \n",
    "not reversing the rows will geneate wrong output\n",
    "\"\"\""
   ]
  },
  {
   "cell_type": "markdown",
   "id": "2088f4ce-2cdb-4c28-b253-84e1230e9187",
   "metadata": {},
   "source": [
    "if the first row of the coefficient matrix is passed into the function, the expansion matrix will look like:\n",
    "$$d_1\\begin{bmatrix} \n",
    "   x_1^0\\\\\n",
    "   x_2^0\\\\\n",
    "   x_3^0\\\\\n",
    "   .\\\\\n",
    "   .\\\\\n",
    "   .\\\\\n",
    "   x_n^0\n",
    "\\end{bmatrix} + c_1\\begin{bmatrix} \n",
    "   x_1^!\\\\\n",
    "   x_2^1\\\\\n",
    "   x_3^1\\\\\n",
    "   .\\\\\n",
    "   .\\\\\n",
    "   .\\\\\n",
    "   x_n^1\n",
    "\\end{bmatrix} + b_1\\begin{bmatrix} \n",
    "   x_1^2\\\\\n",
    "   x_2^2\\\\\n",
    "   x_3^2\\\\\n",
    "   .\\\\\n",
    "   .\\\\\n",
    "   .\\\\\n",
    "   x_n^2\n",
    "\\end{bmatrix} + a_1\\begin{bmatrix} \n",
    "   x_1^3\\\\\n",
    "   x_2^3\\\\\n",
    "   x_3^3\\\\\n",
    "   .\\\\\n",
    "   .\\\\\n",
    "   .\\\\\n",
    "   x_n^3\n",
    "\\end{bmatrix}$$"
   ]
  },
  {
   "cell_type": "markdown",
   "id": "3e05235c-280c-4b20-8eb1-960a688ea13f",
   "metadata": {},
   "source": [
    "#### Simulating 100 values of x and applying the above function to get the respective values of y"
   ]
  },
  {
   "cell_type": "code",
   "execution_count": 96,
   "id": "9cc4cba6-76e7-412f-a024-5a6c44faaa2a",
   "metadata": {},
   "outputs": [
    {
     "name": "stdout",
     "output_type": "stream",
     "text": [
      "[4.849997   4.78545454 4.72134084 4.65808499 4.59611608 4.5358632\n",
      " 4.47775542 4.42222184 4.36969155 4.32059362 4.27535714 4.23449841\n",
      " 4.19798732 4.16567245 4.1372978  4.11260735 4.09134508 4.073255\n",
      " 4.05808107 4.0455673  4.03545766 4.02749615 4.02142675 4.01699345\n",
      " 4.01394024 4.0120111  4.01095002 4.01050099 4.010408   4.00952638\n",
      " 4.00949849 4.00949263 4.00950838 4.00954533 4.00960309 4.00968123\n",
      " 4.00977935 4.00989706 4.01003393 4.01018956 4.01036355 4.01055548\n",
      " 4.01076496 4.01099156 4.0112349  4.01149455 4.01177011 4.01206118\n",
      " 4.01236734 4.01268819 4.01302333 4.01337234 4.01373481 4.01411035\n",
      " 4.01449854 4.01489898 4.01531126 4.01573496 4.01616969 4.01661504\n",
      " 4.0170706  4.01753596 4.01801072 4.01849446 4.01898679 4.01948729\n",
      " 4.01999556 4.02051118 4.02103376 4.02156288 4.02209814 4.02263913\n",
      " 4.02318544 4.02373667 4.02429241 4.02485225 4.02541578 4.0259826\n",
      " 4.0265523  4.02712447 4.02769871 4.02827461 4.02885175 4.02942974\n",
      " 4.03000817 4.03058662 4.0311647  4.03174199 4.03231809 4.03289259\n",
      " 4.03346508 4.03403516 4.03460242 4.03516644 4.03572684 4.03628318\n",
      " 4.03683508 4.03738212 4.0379239  4.03846   ]\n"
     ]
    }
   ],
   "source": [
    "x_values = np.linspace(2,30,100)\n",
    "# for values of x that are less than 5\n",
    "y_1 = spline_interpol(C[0][::-1], x_values[x_values < 5].reshape(-1, 1))\n",
    "# for values of x that are greater than or equal to 5 to x < 10\n",
    "y_2 = spline_interpol(C[1][::-1], x_values[(x_values >= 5) & (x_values < 10)].reshape(-1, 1))\n",
    "# from 10 to 30\n",
    "y_3 = spline_interpol(C[2][::-1], x_values[x_values >= 10].reshape(-1, 1))\n",
    "y_values = np.concatenate([y_1, y_2, y_3])\n",
    "print(y_values)"
   ]
  },
  {
   "cell_type": "markdown",
   "id": "6656d956-ad18-4dda-b9bf-a570d17a4ae4",
   "metadata": {},
   "source": [
    "#### Plotting the result"
   ]
  },
  {
   "cell_type": "code",
   "execution_count": 97,
   "id": "0cfdf232-8585-42e7-a07a-d27fbab37a9e",
   "metadata": {},
   "outputs": [
    {
     "data": {
      "image/png": "[encoded data removed]",
      "text/plain": [
       "<Figure size 640x480 with 1 Axes>"
      ]
     },
     "metadata": {},
     "output_type": "display_data"
    }
   ],
   "source": [
    "plt.plot(x_values, y_values)\n",
    "plt.scatter(t_spline, y_spline, c = \"red\")\n",
    "plt.xlabel(\"Maturity\")\n",
    "plt.ylabel(\"Yields\")\n",
    "plt.title(\"Cubic spline fitting\")\n",
    "plt.show()"
   ]
  },
  {
   "cell_type": "code",
   "execution_count": 93,
   "id": "9d0e503f-9281-45c4-94f8-9b7703324e52",
   "metadata": {},
   "outputs": [
    {
     "name": "stdout",
     "output_type": "stream",
     "text": [
      "[[ 3.960000e-04 -2.376000e-03  2.452200e-02  1.517294e+00]\n",
      " [-3.310000e-04  8.535000e-03 -3.003800e-02  1.608226e+00]\n",
      " [ 2.300000e-05 -2.110000e-03  7.641400e-02  1.253387e+00]]\n"
     ]
    }
   ],
   "source": [
    "print(C)"
   ]
  },
  {
   "cell_type": "code",
   "execution_count": null,
   "id": "7fc5022e-7565-4856-b18a-78617b6e921c",
   "metadata": {},
   "outputs": [],
   "source": []
  }
 ],
 "metadata": {
  "kernelspec": {
   "display_name": "Python 3 (ipykernel)",
   "language": "python",
   "name": "python3"
  },
  "language_info": {
   "codemirror_mode": {
    "name": "ipython",
    "version": 3
   },
   "file_extension": ".py",
   "mimetype": "text/x-python",
   "name": "python",
   "nbconvert_exporter": "python",
   "pygments_lexer": "ipython3",
   "version": "3.12.3"
  }
 },
 "nbformat": 4,
 "nbformat_minor": 5
}
